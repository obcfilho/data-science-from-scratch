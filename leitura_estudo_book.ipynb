{
 "cells": [
  {
   "cell_type": "code",
   "execution_count": 94,
   "id": "b1499928",
   "metadata": {},
   "outputs": [
    {
     "name": "stdout",
     "output_type": "stream",
     "text": [
      "1\n",
      "1\n",
      "2\n",
      "2\n",
      "3\n",
      "3\n",
      "4\n",
      "4\n",
      "5\n",
      "5\n",
      "6\n",
      "1\n",
      "2\n",
      "1\n",
      "3\n",
      "2\n",
      "4\n",
      "3\n",
      "5\n",
      "4\n",
      "6\n",
      "5\n",
      "7\n",
      "2\n",
      "3\n",
      "1\n",
      "4\n",
      "2\n",
      "5\n",
      "3\n",
      "6\n",
      "4\n",
      "7\n",
      "5\n",
      "8\n",
      "3\n",
      "4\n",
      "1\n",
      "5\n",
      "2\n",
      "6\n",
      "3\n",
      "7\n",
      "4\n",
      "8\n",
      "5\n",
      "9\n",
      "4\n",
      "5\n",
      "1\n",
      "6\n",
      "2\n",
      "7\n",
      "3\n",
      "8\n",
      "4\n",
      "9\n",
      "5\n",
      "10\n",
      "5\n",
      "done looping\n"
     ]
    }
   ],
   "source": [
    "# The pound sign marks the start of a comment. Python itself\n",
    "# ignores the comments, but they're helpful for anyone reading the code.\n",
    "for i in [1, 2, 3, 4, 5]:\n",
    "    print(i)                    # first line in \"for i\" block\n",
    "    for j in [1, 2, 3, 4, 5]:\n",
    "        print(j)                # first line in \"for j\" block\n",
    "        print(i + j)            # last line in \"for j\" block\n",
    "    print(i)                    # last line in \"for i\" block\n",
    "print(\"done looping\")"
   ]
  },
  {
   "cell_type": "code",
   "execution_count": 2,
   "id": "5fa5d16e",
   "metadata": {},
   "outputs": [
    {
     "data": {
      "text/plain": [
       "210"
      ]
     },
     "execution_count": 2,
     "metadata": {},
     "output_type": "execute_result"
    }
   ],
   "source": [
    "long_winded_computation = (1 + 2 + 3 + 4 + 5 + 6 + 7 + 8 + 9 + 10 + 11 + 12 +\n",
    "                           13 + 14 + 15 + 16 + 17 + 18 + 19 + 20)\n",
    "long_winded_computation\n",
    "# print(long_winded_computation)"
   ]
  },
  {
   "cell_type": "code",
   "execution_count": 3,
   "id": "f4a52a39",
   "metadata": {},
   "outputs": [
    {
     "data": {
      "text/plain": [
       "[[1, 2, 3], [4, 5, 6], [7, 8, 9]]"
      ]
     },
     "execution_count": 3,
     "metadata": {},
     "output_type": "execute_result"
    }
   ],
   "source": [
    "list_of_lists = [[1, 2, 3], [4, 5, 6], [7, 8, 9]]\n",
    "list_of_lists"
   ]
  },
  {
   "cell_type": "code",
   "execution_count": 4,
   "id": "415d9f3d",
   "metadata": {},
   "outputs": [
    {
     "data": {
      "text/plain": [
       "[[1, 2, 3], [4, 5, 6], [7, 8, 9]]"
      ]
     },
     "execution_count": 4,
     "metadata": {},
     "output_type": "execute_result"
    }
   ],
   "source": [
    "easier_to_read_list_of_lists = [[1, 2, 3],\n",
    "                                [4, 5, 6],\n",
    "                                [7, 8, 9]]\n",
    "easier_to_read_list_of_lists"
   ]
  },
  {
   "cell_type": "code",
   "execution_count": 5,
   "id": "df097960",
   "metadata": {},
   "outputs": [
    {
     "data": {
      "text/plain": [
       "5"
      ]
     },
     "execution_count": 5,
     "metadata": {},
     "output_type": "execute_result"
    }
   ],
   "source": [
    "two_plus_three = 2 + \\\n",
    "                 3\n",
    "two_plus_three"
   ]
  },
  {
   "cell_type": "code",
   "execution_count": 6,
   "id": "3a339908",
   "metadata": {},
   "outputs": [
    {
     "data": {
      "text/plain": [
       "re.compile(r'[0-9]+', re.IGNORECASE|re.UNICODE)"
      ]
     },
     "execution_count": 6,
     "metadata": {},
     "output_type": "execute_result"
    }
   ],
   "source": [
    "import re\n",
    "\n",
    "my_regex = re.compile(\"[0-9]+\",re.I) \n",
    "\n",
    "my_regex"
   ]
  },
  {
   "cell_type": "code",
   "execution_count": 7,
   "id": "50fc7611",
   "metadata": {},
   "outputs": [
    {
     "name": "stdout",
     "output_type": "stream",
     "text": [
      "<function match at 0x00000236B9F372E0>\n"
     ]
    }
   ],
   "source": [
    "match = 10\n",
    "from re import *    # uh oh, re has a match function\n",
    "print(match)        # \"<function match at 0x10281e6a8>\""
   ]
  },
  {
   "cell_type": "code",
   "execution_count": 8,
   "id": "72e242ec",
   "metadata": {},
   "outputs": [
    {
     "name": "stdout",
     "output_type": "stream",
     "text": [
      "2\n"
     ]
    }
   ],
   "source": [
    "def double(x):\n",
    "    \"\"\"\n",
    "    This is where you put an optional docstring that explains what the\n",
    "    function does. For example, this function multiplies its input by 2.\n",
    "    \"\"\"\n",
    "    return x * 2\n",
    "\n",
    "def apply_to_one(f):\n",
    "    \"\"\"Calls the function f with 1 as its argument\"\"\"\n",
    "    return f(1)\n",
    "\n",
    "my_double = double              # refers to the previously defined function\n",
    "x = apply_to_one(my_double)     # equals 2\n",
    "\n",
    "assert x == 2                   # this is a test to make sure x is 2. If it isn't, the program will crash\n",
    "\n",
    "print(x)                        # prints 2"
   ]
  },
  {
   "cell_type": "code",
   "execution_count": 9,
   "id": "13808fc6",
   "metadata": {},
   "outputs": [
    {
     "name": "stdout",
     "output_type": "stream",
     "text": [
      "5\n"
     ]
    }
   ],
   "source": [
    "y = apply_to_one(lambda x: x + 4)   # equals 5\n",
    "assert y == 5                       # this is a test to make sure y is 5. If it isn't, the program will crash\n",
    "print(y)                            # print the value of y to the output"
   ]
  },
  {
   "cell_type": "code",
   "execution_count": 10,
   "id": "c198b825",
   "metadata": {},
   "outputs": [
    {
     "name": "stdout",
     "output_type": "stream",
     "text": [
      "hello\n",
      "my default message\n"
     ]
    }
   ],
   "source": [
    "def my_print(message = \"my default message\"):\n",
    "    print(message)\n",
    "\n",
    "my_print(\"hello\")   # prints 'hello'\n",
    "my_print()          # prints 'my default message'"
   ]
  },
  {
   "cell_type": "code",
   "execution_count": 11,
   "id": "13384056",
   "metadata": {},
   "outputs": [
    {
     "data": {
      "text/plain": [
       "'Joel Grus'"
      ]
     },
     "execution_count": 11,
     "metadata": {},
     "output_type": "execute_result"
    }
   ],
   "source": [
    "def full_name(first = \"What's-his-name\", last = \"Something\"):\n",
    "    return first + \" \" + last\n",
    "\n",
    "assert full_name(\"Joel\", \"Grus\")     == \"Joel Grus\"\n",
    "\n",
    "full_name(\"Joel\", \"Grus\")     # \"Joel Grus\""
   ]
  },
  {
   "cell_type": "code",
   "execution_count": 12,
   "id": "2cd641d3",
   "metadata": {},
   "outputs": [
    {
     "data": {
      "text/plain": [
       "'Joel Something'"
      ]
     },
     "execution_count": 12,
     "metadata": {},
     "output_type": "execute_result"
    }
   ],
   "source": [
    "def full_name(first = \"What's-his-name\", last = \"Something\"):\n",
    "    return first + \" \" + last\n",
    "\n",
    "assert full_name(\"Joel\")             == \"Joel Something\"\n",
    "\n",
    "full_name(\"Joel\")             # \"Joel Something\""
   ]
  },
  {
   "cell_type": "code",
   "execution_count": 13,
   "id": "70219e8b",
   "metadata": {},
   "outputs": [
    {
     "data": {
      "text/plain": [
       "\"What's-his-name Grus\""
      ]
     },
     "execution_count": 13,
     "metadata": {},
     "output_type": "execute_result"
    }
   ],
   "source": [
    "def full_name(first = \"What's-his-name\", last = \"Something\"):\n",
    "    return first + \" \" + last\n",
    "\n",
    "assert full_name(last=\"Grus\")        == \"What's-his-name Grus\"\n",
    "\n",
    "full_name(last=\"Grus\")        # \"What's-his-name Grus\""
   ]
  },
  {
   "cell_type": "code",
   "execution_count": 14,
   "id": "62c4aabc",
   "metadata": {},
   "outputs": [],
   "source": [
    "single_quoted_string = 'data science'\n",
    "double_quoted_string = \"data science\"\n",
    "\n",
    "tab_string = \"\\t\"       # represents the tab character\n",
    "len(tab_string)         # is 1\n",
    "\n",
    "assert len(tab_string) == 1"
   ]
  },
  {
   "cell_type": "code",
   "execution_count": 15,
   "id": "24752bb3",
   "metadata": {},
   "outputs": [],
   "source": [
    "not_tab_string = r\"\\t\"  # represents the characters '\\' and 't'\n",
    "len(not_tab_string)     # is 2\n",
    "\n",
    "assert len(not_tab_string) == 2"
   ]
  },
  {
   "cell_type": "code",
   "execution_count": 16,
   "id": "7bbb3ee7",
   "metadata": {},
   "outputs": [
    {
     "name": "stdout",
     "output_type": "stream",
     "text": [
      "'\\t'\n",
      "'\\\\t'\n",
      "\\t\n"
     ]
    }
   ],
   "source": [
    "print(repr(tab_string))       # prints '\\t'\n",
    "print(repr(not_tab_string))  # prints '\\\\t'\n",
    "print('\\\\t')"
   ]
  },
  {
   "cell_type": "code",
   "execution_count": 17,
   "id": "42126738",
   "metadata": {},
   "outputs": [
    {
     "name": "stdout",
     "output_type": "stream",
     "text": [
      "Joel Grus\n",
      "Joel Grus\n",
      "Joel Grus\n"
     ]
    }
   ],
   "source": [
    "multi_line_string = \"\"\"This is the first line.\n",
    "and this is the second line\n",
    "and this is the third line\"\"\"\n",
    "\n",
    "first_name = \"Joel\"\n",
    "last_name = \"Grus\"\n",
    "\n",
    "full_name1 = first_name + \" \" + last_name             # string addition\n",
    "full_name2 = \"{0} {1}\".format(first_name, last_name)  # string.format\n",
    "\n",
    "# f-strings, available in Python 3.6 and later\n",
    "# are the most readable and efficient way to format strings\n",
    "full_name3 = f\"{first_name} {last_name}\"\n",
    "\n",
    "print(full_name1)  # prints 'Joel Grus'\n",
    "print(full_name2)  # prints 'Joel Grus'\n",
    "print(full_name3)  # prints 'Joel Grus'"
   ]
  },
  {
   "cell_type": "markdown",
   "id": "037b330e",
   "metadata": {},
   "source": [
    "### Início do Repositório, Commits e Pushs"
   ]
  },
  {
   "cell_type": "code",
   "execution_count": 70,
   "id": "8aba597f",
   "metadata": {},
   "outputs": [
    {
     "name": "stdout",
     "output_type": "stream",
     "text": [
      "Testando o print pelo Workspace\n"
     ]
    }
   ],
   "source": [
    "print(\"Testando o print pelo Workspace\")"
   ]
  },
  {
   "cell_type": "code",
   "execution_count": 71,
   "id": "2a986c7b",
   "metadata": {},
   "outputs": [],
   "source": [
    "integer_list = [1, 2, 3]\n",
    "heterogeneous_list = [\"string\", 0.1, True]\n",
    "list_of_lists = [integer_list, heterogeneous_list, []]"
   ]
  },
  {
   "cell_type": "code",
   "execution_count": 72,
   "id": "77259350",
   "metadata": {},
   "outputs": [
    {
     "data": {
      "text/plain": [
       "3"
      ]
     },
     "execution_count": 72,
     "metadata": {},
     "output_type": "execute_result"
    }
   ],
   "source": [
    "list_length = len(integer_list)     # equals 3\n",
    "\n",
    "assert list_length == 3\n",
    "\n",
    "list_length"
   ]
  },
  {
   "cell_type": "code",
   "execution_count": 73,
   "id": "1e3348b4",
   "metadata": {},
   "outputs": [
    {
     "data": {
      "text/plain": [
       "6"
      ]
     },
     "execution_count": 73,
     "metadata": {},
     "output_type": "execute_result"
    }
   ],
   "source": [
    "list_sum = sum(integer_list)     # equals 6\n",
    "\n",
    "assert list_sum == 6\n",
    "\n",
    "list_sum"
   ]
  },
  {
   "cell_type": "code",
   "execution_count": 74,
   "id": "ae9d3d91",
   "metadata": {},
   "outputs": [],
   "source": [
    "import this "
   ]
  },
  {
   "cell_type": "code",
   "execution_count": 75,
   "id": "6bd713bb",
   "metadata": {},
   "outputs": [
    {
     "data": {
      "text/plain": [
       "3"
      ]
     },
     "execution_count": 75,
     "metadata": {},
     "output_type": "execute_result"
    }
   ],
   "source": [
    "x, y = [1, 2]    # now x is 1, y is 2\n",
    "\n",
    "\n",
    "assert x == 1\n",
    "assert y == 2\n",
    "\n",
    "_, y = [1, 3]    # now y == 2, didn't care about the first element\n",
    "\n",
    "y"
   ]
  },
  {
   "cell_type": "code",
   "execution_count": 76,
   "id": "26f993fd",
   "metadata": {},
   "outputs": [
    {
     "name": "stdout",
     "output_type": "stream",
     "text": [
      "cannot modify a tuple\n"
     ]
    }
   ],
   "source": [
    "my_list = [1, 2]\n",
    "my_tuple = (1, 2)\n",
    "other_tuple = 3, 4\n",
    "my_list[1] = 3      # my_list is now [1, 3]\n",
    "\n",
    "try:\n",
    "    my_tuple[1] = 3\n",
    "except TypeError:\n",
    "    print(\"cannot modify a tuple\")\n"
   ]
  },
  {
   "cell_type": "code",
   "execution_count": 77,
   "id": "e2a26f12",
   "metadata": {},
   "outputs": [],
   "source": [
    "empty_dict = {}                     # Pythonic\n",
    "empty_dict2 = dict()                # less Pythonic\n",
    "grades = {\"Joel\": 80, \"Tim\": 95}    # dictionary literal\n",
    "\n",
    "joels_grade = grades[\"Joel\"]        # equals 80\n",
    "\n",
    "\n",
    "assert joels_grade == 80\n"
   ]
  },
  {
   "cell_type": "code",
   "execution_count": 78,
   "id": "f6e7101a",
   "metadata": {},
   "outputs": [
    {
     "name": "stdout",
     "output_type": "stream",
     "text": [
      "no grade for Kate!\n"
     ]
    }
   ],
   "source": [
    "\n",
    "try:\n",
    "    kates_grade = grades[\"Kate\"]\n",
    "except KeyError:\n",
    "    print(\"no grade for Kate!\")\n"
   ]
  },
  {
   "cell_type": "code",
   "execution_count": 79,
   "id": "2cc206c4",
   "metadata": {},
   "outputs": [],
   "source": [
    "\n",
    "joel_has_grade = \"Joel\" in grades     # True\n",
    "kate_has_grade = \"Kate\" in grades     # False\n",
    "\n",
    "assert joel_has_grade\n",
    "assert not kate_has_grade"
   ]
  },
  {
   "cell_type": "code",
   "execution_count": 80,
   "id": "ad5142a8",
   "metadata": {},
   "outputs": [
    {
     "data": {
      "text/plain": [
       "80"
      ]
     },
     "execution_count": 80,
     "metadata": {},
     "output_type": "execute_result"
    }
   ],
   "source": [
    "joels_grade = grades.get(\"Joel\", 0)   # equals 80\n",
    "joels_grade"
   ]
  },
  {
   "cell_type": "code",
   "execution_count": 81,
   "id": "04357dde",
   "metadata": {},
   "outputs": [
    {
     "data": {
      "text/plain": [
       "0"
      ]
     },
     "execution_count": 81,
     "metadata": {},
     "output_type": "execute_result"
    }
   ],
   "source": [
    "kates_grade = grades.get(\"Kate\", 0)   # equals 0\n",
    "kates_grade"
   ]
  },
  {
   "cell_type": "code",
   "execution_count": 82,
   "id": "1cb597c2",
   "metadata": {},
   "outputs": [
    {
     "name": "stdout",
     "output_type": "stream",
     "text": [
      "None\n"
     ]
    }
   ],
   "source": [
    "no_ones_grade = grades.get(\"No One\")  # default default is None\n",
    "print(no_ones_grade)"
   ]
  },
  {
   "cell_type": "code",
   "execution_count": 83,
   "id": "bd33f89b",
   "metadata": {},
   "outputs": [
    {
     "data": {
      "text/plain": [
       "{'Joel': 80, 'Tim': 95}"
      ]
     },
     "execution_count": 83,
     "metadata": {},
     "output_type": "execute_result"
    }
   ],
   "source": [
    "grades"
   ]
  },
  {
   "cell_type": "code",
   "execution_count": 84,
   "id": "1a7c0a75",
   "metadata": {},
   "outputs": [],
   "source": [
    "grades[\"Tim\"] = 99                    # replaces the old value\n",
    "grades[\"Kate\"] = 100                  # adds a third entry\n",
    "num_students = len(grades)            # equals 3\n",
    "\n",
    "assert num_students == 3"
   ]
  },
  {
   "cell_type": "code",
   "execution_count": 85,
   "id": "79938cfa",
   "metadata": {},
   "outputs": [
    {
     "data": {
      "text/plain": [
       "{'Joel': 80, 'Tim': 99, 'Kate': 100}"
      ]
     },
     "execution_count": 85,
     "metadata": {},
     "output_type": "execute_result"
    }
   ],
   "source": [
    "grades[\"Tim\"] = 99                    # replaces the old value\n",
    "grades[\"Kate\"] = 100                  # adds a third entry\n",
    "num_students = len(grades)            # equals 3\n",
    "\n",
    "grades"
   ]
  },
  {
   "cell_type": "code",
   "execution_count": 86,
   "id": "9eae36b0",
   "metadata": {},
   "outputs": [
    {
     "data": {
      "text/plain": [
       "3"
      ]
     },
     "execution_count": 86,
     "metadata": {},
     "output_type": "execute_result"
    }
   ],
   "source": [
    "num_students"
   ]
  },
  {
   "cell_type": "code",
   "execution_count": 87,
   "id": "2b7ce5d9",
   "metadata": {},
   "outputs": [],
   "source": [
    "tweet = {\n",
    "    \"user\" : \"joelgrus\",\n",
    "    \"text\" : \"Data Science is Awesome\",\n",
    "    \"retweet_count\" : 100,\n",
    "    \"hashtags\" : [\"#data\", \"#science\", \"#datascience\", \"#awesome\", \"#yolo\"]\n",
    "}"
   ]
  },
  {
   "cell_type": "code",
   "execution_count": 88,
   "id": "4b9469dd",
   "metadata": {},
   "outputs": [
    {
     "data": {
      "text/plain": [
       "dict_keys(['user', 'text', 'retweet_count', 'hashtags'])"
      ]
     },
     "execution_count": 88,
     "metadata": {},
     "output_type": "execute_result"
    }
   ],
   "source": [
    "tweet_keys   = tweet.keys()     # iterable for the keys\n",
    "tweet_keys"
   ]
  },
  {
   "cell_type": "code",
   "execution_count": 89,
   "id": "d001c263",
   "metadata": {},
   "outputs": [
    {
     "data": {
      "text/plain": [
       "dict_values(['joelgrus', 'Data Science is Awesome', 100, ['#data', '#science', '#datascience', '#awesome', '#yolo']])"
      ]
     },
     "execution_count": 89,
     "metadata": {},
     "output_type": "execute_result"
    }
   ],
   "source": [
    "tweet_values = tweet.values()   # iterable for the values\n",
    "tweet_values"
   ]
  },
  {
   "cell_type": "code",
   "execution_count": 90,
   "id": "3fe320ad",
   "metadata": {},
   "outputs": [
    {
     "data": {
      "text/plain": [
       "dict_items([('user', 'joelgrus'), ('text', 'Data Science is Awesome'), ('retweet_count', 100), ('hashtags', ['#data', '#science', '#datascience', '#awesome', '#yolo'])])"
      ]
     },
     "execution_count": 90,
     "metadata": {},
     "output_type": "execute_result"
    }
   ],
   "source": [
    "tweet_items  = tweet.items()    # iterable for the (key, value) tuples\n",
    "tweet_items"
   ]
  },
  {
   "cell_type": "code",
   "execution_count": 91,
   "id": "b7c23db0",
   "metadata": {},
   "outputs": [
    {
     "data": {
      "text/plain": [
       "True"
      ]
     },
     "execution_count": 91,
     "metadata": {},
     "output_type": "execute_result"
    }
   ],
   "source": [
    "\"user\" in tweet_keys            # True, but not Pythonic\n",
    "\"user\" in tweet                 # Pythonic way of checking for keys\n",
    "\"joelgrus\" in tweet_values      # True (slow but the only way to check)"
   ]
  },
  {
   "cell_type": "code",
   "execution_count": 92,
   "id": "ca96e136",
   "metadata": {},
   "outputs": [
    {
     "name": "stdout",
     "output_type": "stream",
     "text": [
      "defaultdict(<class 'int'>, {})\n",
      "defaultdict(<class 'int'>, {'banana': 2, 'maçã': 1})\n"
     ]
    }
   ],
   "source": [
    "from collections import defaultdict\n",
    "\n",
    "# Cria um defaultdict que retorna 0 para chaves inexistentes\n",
    "contador = defaultdict(int)\n",
    "print(contador)  # defaultdict(<class 'int'>, {})\n",
    "\n",
    "# Incrementa contagens\n",
    "contador['banana'] += 1\n",
    "contador['banana'] += 1\n",
    "contador['maçã'] += 1\n",
    "\n",
    "print(contador)\n"
   ]
  },
  {
   "cell_type": "code",
   "execution_count": 95,
   "id": "182a3c4f",
   "metadata": {},
   "outputs": [
    {
     "name": "stdout",
     "output_type": "stream",
     "text": [
      "defaultdict(int): defaultdict(<class 'int'>, {'apple': 1, 'banana': 2})\n"
     ]
    }
   ],
   "source": [
    "# defaultdict with int (useful for counting)\n",
    "count = defaultdict(int)\n",
    "count['apple'] += 1\n",
    "count['banana'] += 2\n",
    "print(\"defaultdict(int):\", count)"
   ]
  },
  {
   "cell_type": "code",
   "execution_count": 96,
   "id": "066f9f82",
   "metadata": {},
   "outputs": [
    {
     "name": "stdout",
     "output_type": "stream",
     "text": [
      "defaultdict(list): defaultdict(<class 'list'>, {'fruits': ['apple', 'banana'], 'vegetables': ['carrot']})\n"
     ]
    }
   ],
   "source": [
    "# defaultdict with list (useful for grouping items)\n",
    "group = defaultdict(list)\n",
    "group['fruits'].append('apple')\n",
    "group['fruits'].append('banana')\n",
    "group['vegetables'].append('carrot')\n",
    "print(\"defaultdict(list):\", group)"
   ]
  },
  {
   "cell_type": "code",
   "execution_count": 97,
   "id": "404755c7",
   "metadata": {},
   "outputs": [
    {
     "name": "stdout",
     "output_type": "stream",
     "text": [
      "defaultdict(set): defaultdict(<class 'set'>, {'fruits': {'banana', 'apple'}})\n"
     ]
    }
   ],
   "source": [
    "# defaultdict with set (useful for unique sets)\n",
    "unique_items = defaultdict(set)\n",
    "unique_items['fruits'].add('apple')\n",
    "unique_items['fruits'].add('banana')\n",
    "unique_items['fruits'].add('apple')  # duplicate, won't be added\n",
    "print(\"defaultdict(set):\", unique_items)"
   ]
  }
 ],
 "metadata": {
  "kernelspec": {
   "display_name": ".venv",
   "language": "python",
   "name": "python3"
  },
  "language_info": {
   "codemirror_mode": {
    "name": "ipython",
    "version": 3
   },
   "file_extension": ".py",
   "mimetype": "text/x-python",
   "name": "python",
   "nbconvert_exporter": "python",
   "pygments_lexer": "ipython3",
   "version": "3.13.2"
  }
 },
 "nbformat": 4,
 "nbformat_minor": 5
}
